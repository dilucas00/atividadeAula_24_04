{
 "cells": [
  {
   "cell_type": "code",
   "execution_count": 5,
   "metadata": {},
   "outputs": [
    {
     "data": {
      "text/plain": [
       "3"
      ]
     },
     "execution_count": 5,
     "metadata": {},
     "output_type": "execute_result"
    }
   ],
   "source": [
    "dias = [3,1,10]\n",
    "dias[0]"
   ]
  },
  {
   "cell_type": "code",
   "execution_count": 6,
   "metadata": {},
   "outputs": [
    {
     "data": {
      "text/plain": [
       "1"
      ]
     },
     "execution_count": 6,
     "metadata": {},
     "output_type": "execute_result"
    }
   ],
   "source": [
    "dias[1]"
   ]
  },
  {
   "cell_type": "code",
   "execution_count": 4,
   "metadata": {},
   "outputs": [
    {
     "data": {
      "text/plain": [
       "10"
      ]
     },
     "execution_count": 4,
     "metadata": {},
     "output_type": "execute_result"
    }
   ],
   "source": [
    "dias[2]"
   ]
  },
  {
   "cell_type": "code",
   "execution_count": 8,
   "metadata": {},
   "outputs": [],
   "source": [
    "z = [3,8,9]"
   ]
  },
  {
   "cell_type": "code",
   "execution_count": 9,
   "metadata": {},
   "outputs": [],
   "source": [
    "z[0] = 7 #Trocando o 3 pelo 7"
   ]
  },
  {
   "cell_type": "code",
   "execution_count": 10,
   "metadata": {},
   "outputs": [
    {
     "data": {
      "text/plain": [
       "[7, 8, 9]"
      ]
     },
     "execution_count": 10,
     "metadata": {},
     "output_type": "execute_result"
    }
   ],
   "source": [
    "z # 3 Trocado pelo 7\n"
   ]
  },
  {
   "cell_type": "code",
   "execution_count": 13,
   "metadata": {},
   "outputs": [
    {
     "name": "stdout",
     "output_type": "stream",
     "text": [
      "True\n",
      "True\n",
      "[5, 7, 5, 8, 9]\n",
      "[5, 7, 5, 8, 9]\n"
     ]
    }
   ],
   "source": [
    "v = [6,7,5,8,9] \n",
    "l = v\n",
    "print(v==l)\n",
    "print(v is l)\n",
    "v[0] = 5\n",
    "print(v)\n",
    "print(l)\n",
    "# V funciona como apelido de L e vise e versa\n",
    "# V e L ocupam o mesmo lugar da memoria, possuem o mesmo objeto (conteudo).\n"
   ]
  },
  {
   "cell_type": "code",
   "execution_count": 14,
   "metadata": {},
   "outputs": [
    {
     "name": "stdout",
     "output_type": "stream",
     "text": [
      "True\n",
      "False\n",
      "[81, 82, 83]\n",
      "[5, 82, 83]\n"
     ]
    }
   ],
   "source": [
    "a = [81,82,83]\n",
    "b = a[:] # Cria um clone com fatia, ou seja eles possuem espaços na memoria distintos.\n",
    "print(a == b)\n",
    "print(a is b)\n",
    "b[0] = 5\n",
    "print(a)\n",
    "print(b)"
   ]
  },
  {
   "cell_type": "code",
   "execution_count": 17,
   "metadata": {},
   "outputs": [
    {
     "name": "stdout",
     "output_type": "stream",
     "text": [
      "['b', 'c']\n",
      "['a', 'b', 'c', 'd']\n",
      "['d', 'e', 'f']\n",
      "['a', 'b', 'c', 'd', 'e', 'f']\n",
      "['e', 'f']\n"
     ]
    }
   ],
   "source": [
    "# Fatiamento de listas\n",
    "uma_lista = [\"a\",\"b\",\"c\",\"d\",\"e\",\"f\"]\n",
    "print(uma_lista[1:3]) # intervalo fechado, ele exclui o numero depois do \":\" (mostrando o numero anterior)\n",
    "print(uma_lista[:4]) # começou no indice 0 e foi ate o d (indice 3\n",
    "print(uma_lista[3:]) # começou no indice 3 e apresentou ate o fim da lista\n",
    "print(uma_lista[:]) # apresenta toda a lista\n",
    "print(uma_lista[4:])\n",
    "\n"
   ]
  },
  {
   "cell_type": "code",
   "execution_count": null,
   "metadata": {},
   "outputs": [],
   "source": []
  },
  {
   "cell_type": "code",
   "execution_count": null,
   "metadata": {},
   "outputs": [],
   "source": []
  },
  {
   "cell_type": "code",
   "execution_count": 35,
   "metadata": {},
   "outputs": [
    {
     "name": "stdout",
     "output_type": "stream",
     "text": [
      "[76, 92.3, 'oi', True, 4, 76, 'pitomba', 76]\n"
     ]
    }
   ],
   "source": [
    "#A)\n",
    "minhaLista = [76, 92.3,\"oi\",True,4,76]\n",
    "novaLista = [\"pitomba\",76]\n",
    "novalista1 = minhaLista+novaLista\n",
    "print(novalista1)\n",
    "\n"
   ]
  },
  {
   "cell_type": "code",
   "execution_count": 46,
   "metadata": {},
   "outputs": [
    {
     "name": "stdout",
     "output_type": "stream",
     "text": [
      "[76, 92.3, 'oi', 'Cibele', True, 4, 76, 'pitomba', 76]\n"
     ]
    }
   ],
   "source": [
    "#B) Inserir o valor \"Cibele\" no indice 3\n",
    "print(novalista1[:3] + [\"Cibele\"] + novalista1[3:])\n"
   ]
  },
  {
   "cell_type": "code",
   "execution_count": 55,
   "metadata": {},
   "outputs": [
    {
     "data": {
      "text/plain": [
       "[99, 76, 92.3, 'oi', True, 4, 76]"
      ]
     },
     "execution_count": 55,
     "metadata": {},
     "output_type": "execute_result"
    }
   ],
   "source": [
    "#C) \n",
    "novalista1 =[76,92.3,\"0i\",True,4,76]\n",
    "novalista1 [:0]\n",
    "novaLista = [99]\n",
    "novaLista + minhaLista"
   ]
  },
  {
   "cell_type": "code",
   "execution_count": 56,
   "metadata": {},
   "outputs": [
    {
     "name": "stdout",
     "output_type": "stream",
     "text": [
      "'Oi' foi encotrado no  2\n"
     ]
    }
   ],
   "source": [
    "#D) \n",
    "minhaLista =[76,92.3,\"0i\",True,4,76]\n",
    "if minhaLista[0] == '0i':\n",
    "    print(\"'Oi' foi encotrado no  0\")\n",
    "elif minhaLista[1] == '0i':\n",
    "    print(\"'Oi' foi encotrado no  1\")\n",
    "elif minhaLista[2] == '0i':\n",
    "    print(\"'Oi' foi encotrado no  2\")\n",
    "elif minhaLista[3] == '0i':\n",
    "    print(\"'Oi' foi encotrado no  3\")\n",
    "elif minhaLista[4] == '0i':\n",
    "    print(\"'Oi' foi encotrado no  4\")\n",
    "elif minhaLista[5] == '0i':\n",
    "    print(\"'Oi' foi encotrado no  5\")\n",
    "else:\n",
    "    print(\"'Oi' não foi encontrado em nenhum local\")"
   ]
  },
  {
   "cell_type": "code",
   "execution_count": null,
   "metadata": {},
   "outputs": [],
   "source": [
    "#E)\n",
    "minhaLista =[76,92.3,\"0i\",True,4,76]\n",
    "minhaLista[:3]\n",
    "cloneLista=[4,76]\n",
    "minhaLista[:3]+cloneLista"
   ]
  },
  {
   "cell_type": "code",
   "execution_count": 58,
   "metadata": {},
   "outputs": [
    {
     "name": "stdout",
     "output_type": "stream",
     "text": [
      "[4, 2, 8, 6, 5, 'Cibele']\n"
     ]
    }
   ],
   "source": [
    "uma_lista = [4,2,8,6,5]\n",
    "uma_lista = uma_lista + [\"Cibele\"]\n",
    "print(uma_lista)"
   ]
  },
  {
   "cell_type": "code",
   "execution_count": null,
   "metadata": {},
   "outputs": [],
   "source": [
    "#TUPLAS\n",
    "tupla_numeros = (10,20,30)\n",
    "tupla_numeros"
   ]
  },
  {
   "cell_type": "code",
   "execution_count": null,
   "metadata": {},
   "outputs": [],
   "source": [
    "tupla_vazia = ()\n",
    "tupla_vazia"
   ]
  },
  {
   "cell_type": "code",
   "execution_count": null,
   "metadata": {},
   "outputs": [],
   "source": [
    "#Funçao tuple\n",
    "nova_tupla = tuple(\"Teste\")\n",
    "nova_tupla"
   ]
  },
  {
   "cell_type": "code",
   "execution_count": null,
   "metadata": {},
   "outputs": [],
   "source": [
    "tupla_nomes = (\"Marlene\", \"Zezinho\", \"Marlene\", \"Cibele\", \"Zuely\")\n",
    "tupla_nomes.count(\"Marlene\")\n",
    "print(tupla_nomes.count(\"Suely\"))\n",
    "print(tupla_nomes.count(\"Zezinho\"))"
   ]
  },
  {
   "cell_type": "code",
   "execution_count": null,
   "metadata": {},
   "outputs": [],
   "source": [
    "tupla_elementos = 1,2,2,3,4,4,4,5\n",
    "tupla_elementos.count(4)"
   ]
  }
 ],
 "metadata": {
  "kernelspec": {
   "display_name": "Python 3",
   "language": "python",
   "name": "python3"
  },
  "language_info": {
   "codemirror_mode": {
    "name": "ipython",
    "version": 3
   },
   "file_extension": ".py",
   "mimetype": "text/x-python",
   "name": "python",
   "nbconvert_exporter": "python",
   "pygments_lexer": "ipython3",
   "version": "3.11.9"
  }
 },
 "nbformat": 4,
 "nbformat_minor": 2
}
